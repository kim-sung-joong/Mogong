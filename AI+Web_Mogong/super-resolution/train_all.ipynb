{
 "cells": [
  {
   "cell_type": "code",
   "execution_count": 1,
   "metadata": {},
   "outputs": [
    {
     "name": "stderr",
     "output_type": "stream",
     "text": [
      "Using TensorFlow backend.\n",
      "C:\\ProgramData\\Anaconda3\\lib\\site-packages\\dask\\config.py:168: YAMLLoadWarning: calling yaml.load() without Loader=... is deprecated, as the default Loader is unsafe. Please read https://msg.pyyaml.org/load for full details.\n",
      "  data = yaml.load(f.read()) or {}\n"
     ]
    }
   ],
   "source": [
    "import cv2, os, glob\n",
    "import numpy as np\n",
    "import matplotlib.pyplot as plt\n",
    "from keras.layers import Conv2D, Input, Activation\n",
    "from keras.models import Model\n",
    "from keras.models import load_model\n",
    "from keras.callbacks import ModelCheckpoint\n",
    "from skimage.transform import pyramid_expand\n",
    "from Subpixel import Subpixel\n",
    "from DataGenerator import DataGenerator\n",
    "from Modimg import ModImg"
   ]
  },
  {
   "cell_type": "code",
   "execution_count": 2,
   "metadata": {},
   "outputs": [
    {
     "name": "stdout",
     "output_type": "stream",
     "text": [
      "4928 1133\n",
      "D:\\Data\\x_train\\0.npy\n"
     ]
    }
   ],
   "source": [
    "base_path = 'D:\\\\Data'\n",
    "\n",
    "x_train_list = sorted(glob.glob(os.path.join(base_path, 'x_train', '*.npy')))\n",
    "x_val_list = sorted(glob.glob(os.path.join(base_path, 'x_val', '*.npy')))\n",
    "\n",
    "print(len(x_train_list), len(x_val_list))\n",
    "print(x_train_list[0])"
   ]
  },
  {
   "cell_type": "code",
   "execution_count": 3,
   "metadata": {},
   "outputs": [],
   "source": [
    "train_gen = DataGenerator(list_IDs=x_train_list, labels=None, batch_size=4, dim=(256,256), n_channels=3, n_classes=None, shuffle=True)\n",
    "\n",
    "val_gen = DataGenerator(list_IDs=x_val_list, labels=None, batch_size=4, dim=(256,256), n_channels=3, n_classes=None, shuffle=False)"
   ]
  },
  {
   "cell_type": "code",
   "execution_count": 4,
   "metadata": {},
   "outputs": [
    {
     "name": "stdout",
     "output_type": "stream",
     "text": [
      "Model: \"model_1\"\n",
      "_________________________________________________________________\n",
      "Layer (type)                 Output Shape              Param #   \n",
      "=================================================================\n",
      "input_1 (InputLayer)         (None, 256, 256, 3)       0         \n",
      "_________________________________________________________________\n",
      "conv2d_1 (Conv2D)            (None, 256, 256, 64)      4864      \n",
      "_________________________________________________________________\n",
      "conv2d_2 (Conv2D)            (None, 256, 256, 64)      36928     \n",
      "_________________________________________________________________\n",
      "conv2d_3 (Conv2D)            (None, 256, 256, 32)      18464     \n",
      "_________________________________________________________________\n",
      "conv2d_4 (Conv2D)            (None, 256, 256, 4)       1156      \n",
      "_________________________________________________________________\n",
      "subpixel_1 (Subpixel)        (None, 512, 512, 3)       444       \n",
      "_________________________________________________________________\n",
      "activation_1 (Activation)    (None, 512, 512, 3)       0         \n",
      "=================================================================\n",
      "Total params: 61,856\n",
      "Trainable params: 61,856\n",
      "Non-trainable params: 0\n",
      "_________________________________________________________________\n"
     ]
    }
   ],
   "source": [
    "upscale_factor = 2\n",
    "\n",
    "inputs = Input(shape=(256, 256, 3))\n",
    "\n",
    "net = Conv2D(filters=64, kernel_size=5, strides=1, padding='same', activation='relu')(inputs)\n",
    "net = Conv2D(filters=64, kernel_size=3, strides=1, padding='same', activation='relu')(net)\n",
    "net = Conv2D(filters=32, kernel_size=3, strides=1, padding='same', activation='relu')(net)\n",
    "net = Conv2D(filters=upscale_factor**2, kernel_size=3, strides=1, padding='same', activation='relu')(net)\n",
    "net = Subpixel(filters=3, kernel_size=3, r=upscale_factor, padding='same')(net)\n",
    "outputs = Activation('relu')(net)\n",
    "\n",
    "model = Model(inputs=inputs, outputs=outputs)\n",
    "\n",
    "model.compile(optimizer='adam', loss='mse')\n",
    "\n",
    "model.summary()"
   ]
  },
  {
   "cell_type": "code",
   "execution_count": 6,
   "metadata": {},
   "outputs": [],
   "source": [
    "model = load_model('models/model_256.h5', custom_objects={'Subpixel':Subpixel})"
   ]
  },
  {
   "cell_type": "code",
   "execution_count": null,
   "metadata": {},
   "outputs": [
    {
     "name": "stdout",
     "output_type": "stream",
     "text": [
      "Epoch 1/20\n",
      "1232/1232 [==============================] - 3063s 2s/step - loss: 0.0022 - val_loss: 0.0018\n",
      "\n",
      "Epoch 00001: val_loss improved from inf to 0.00176, saving model to models/model_256.h5\n",
      "Epoch 2/20\n",
      "1232/1232 [==============================] - 3217s 3s/step - loss: 0.0022 - val_loss: 0.0017\n",
      "\n",
      "Epoch 00002: val_loss improved from 0.00176 to 0.00169, saving model to models/model_256.h5\n",
      "Epoch 3/20\n",
      "1232/1232 [==============================] - 3225s 3s/step - loss: 0.0021 - val_loss: 0.0028\n",
      "\n",
      "Epoch 00003: val_loss did not improve from 0.00169\n",
      "Epoch 4/20\n",
      "1232/1232 [==============================] - 3289s 3s/step - loss: 0.0020 - val_loss: 0.0015\n",
      "\n",
      "Epoch 00004: val_loss improved from 0.00169 to 0.00155, saving model to models/model_256.h5\n",
      "Epoch 5/20\n",
      "1232/1232 [==============================] - 3335s 3s/step - loss: 0.0020 - val_loss: 0.0021\n",
      "\n",
      "Epoch 00005: val_loss did not improve from 0.00155\n",
      "Epoch 6/20\n",
      "1232/1232 [==============================] - 3359s 3s/step - loss: 0.0020 - val_loss: 0.0013\n",
      "\n",
      "Epoch 00006: val_loss improved from 0.00155 to 0.00127, saving model to models/model_256.h5\n",
      "Epoch 7/20\n",
      "1232/1232 [==============================] - 3382s 3s/step - loss: 0.0019 - val_loss: 0.0019\n",
      "\n",
      "Epoch 00007: val_loss did not improve from 0.00127\n",
      "Epoch 8/20\n",
      "1232/1232 [==============================] - 3411s 3s/step - loss: 0.0020 - val_loss: 0.0017\n",
      "\n",
      "Epoch 00008: val_loss did not improve from 0.00127\n",
      "Epoch 9/20\n",
      "1232/1232 [==============================] - 3654s 3s/step - loss: 0.0018 - val_loss: 0.0021\n",
      "\n",
      "Epoch 00009: val_loss did not improve from 0.00127\n",
      "Epoch 10/20\n",
      "1232/1232 [==============================] - 20787s 17s/step - loss: 0.0019 - val_loss: 0.0013\n",
      "\n",
      "Epoch 00010: val_loss did not improve from 0.00127\n",
      "Epoch 11/20\n",
      "1232/1232 [==============================] - 3501s 3s/step - loss: 0.0019 - val_loss: 0.0014\n",
      "\n",
      "Epoch 00011: val_loss did not improve from 0.00127\n",
      "Epoch 12/20\n",
      " 193/1232 [===>..........................] - ETA: 47:52 - loss: 0.0015"
     ]
    }
   ],
   "source": [
    "history = model.fit_generator(train_gen, validation_data=val_gen, epochs=20, verbose=1, callbacks=[\n",
    "    ModelCheckpoint('models/model_256.h5', monitor='val_loss', verbose=1, save_best_only=True)\n",
    "])"
   ]
  },
  {
   "cell_type": "code",
   "execution_count": null,
   "metadata": {},
   "outputs": [],
   "source": [
    "size = 512\n",
    "w = 508\n",
    "ww = int((w - size) / 2)\n",
    "\n",
    "print(int((size - w) / 2))"
   ]
  },
  {
   "cell_type": "code",
   "execution_count": null,
   "metadata": {},
   "outputs": [],
   "source": [
    "x_test_list = sorted(glob.glob(os.path.join(base_path, 'x_test', '*.npy')))\n",
    "y_test_list = sorted(glob.glob(os.path.join(base_path, 'y_test', '*.npy')))\n",
    "\n",
    "print(len(x_test_list), len(y_test_list))\n",
    "print(x_test_list[0])"
   ]
  },
  {
   "cell_type": "code",
   "execution_count": null,
   "metadata": {},
   "outputs": [],
   "source": [
    "\n",
    "test_idx = 28\n",
    "\n",
    "x1_test = np.load(x_test_list[test_idx])\n",
    "x1_test_resized = pyramid_expand(x1_test, 2)\n",
    "y1_test = np.load(y_test_list[test_idx])\n",
    "y_pred = model.predict(x1_test.reshape((1, 64, 64, 3)))\n",
    "\n",
    "\n",
    "x1_test = (x1_test * 255).astype(np.uint8)\n",
    "x1_test_resized = (x1_test_resized * 255).astype(np.uint8)\n",
    "y1_test = (y1_test * 255).astype(np.uint8)\n",
    "# y_pred = np.clip(y_pred.reshape((128, 128, 3)), 0, 1)\n",
    "y_pred = y_pred.reshape((128, 128, 3))\n",
    "\n",
    "\n",
    "x1_test = cv2.cvtColor(x1_test, cv2.COLOR_BGR2RGB)\n",
    "x1_test_resized = cv2.cvtColor(x1_test_resized, cv2.COLOR_BGR2RGB)\n",
    "y1_test = cv2.cvtColor(y1_test, cv2.COLOR_BGR2RGB)\n",
    "y_pred = cv2.cvtColor(y_pred, cv2.COLOR_BGR2RGB)\n",
    "y_pred = (y_pred * 255).astype('uint8')\n",
    "\n",
    "\n",
    "plt.figure(figsize=(15, 10))\n",
    "plt.subplot(1, 4, 1)\n",
    "plt.title('input')\n",
    "plt.imshow(x1_test)\n",
    "plt.subplot(1, 4, 2)\n",
    "plt.title('resized')\n",
    "plt.imshow(x1_test_resized)\n",
    "plt.subplot(1, 4, 3)\n",
    "plt.title('output')\n",
    "plt.imshow(y_pred)\n",
    "plt.subplot(1, 4, 4)\n",
    "plt.title('groundtruth')\n",
    "plt.imshow(y1_test)"
   ]
  }
 ],
 "metadata": {
  "kernelspec": {
   "display_name": "Python 3",
   "language": "python",
   "name": "python3"
  },
  "language_info": {
   "codemirror_mode": {
    "name": "ipython",
    "version": 3
   },
   "file_extension": ".py",
   "mimetype": "text/x-python",
   "name": "python",
   "nbconvert_exporter": "python",
   "pygments_lexer": "ipython3",
   "version": "3.7.3"
  }
 },
 "nbformat": 4,
 "nbformat_minor": 2
}
