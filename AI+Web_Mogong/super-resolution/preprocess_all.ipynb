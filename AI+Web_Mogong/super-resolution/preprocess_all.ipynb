{
 "cells": [
  {
   "cell_type": "code",
   "execution_count": 1,
   "metadata": {},
   "outputs": [
    {
     "name": "stderr",
     "output_type": "stream",
     "text": [
      "C:\\ProgramData\\Anaconda3\\lib\\site-packages\\dask\\config.py:168: YAMLLoadWarning: calling yaml.load() without Loader=... is deprecated, as the default Loader is unsafe. Please read https://msg.pyyaml.org/load for full details.\n",
      "  data = yaml.load(f.read()) or {}\n"
     ]
    }
   ],
   "source": [
    "import os, cv2, glob\n",
    "import numpy as np\n",
    "import matplotlib.pyplot as plt\n",
    "from skimage.transform import pyramid_reduce\n",
    "from Modimg import ModImg"
   ]
  },
  {
   "cell_type": "code",
   "execution_count": 8,
   "metadata": {},
   "outputs": [],
   "source": [
    "base_path = 'celeba-dataset'\n",
    "processed_base_path = 'D:\\\\Data'\n",
    "\n",
    "# img_base_path = os.path.join(base_path, 'DIV2K_train_HR', 'DIV2K_train_HR')\n",
    "# img_base_path = os.path.join(base_path, 'DIV2K_valid_HR')\n",
    "# img_base_path = os.path.join(base_path, 'dataset-image-super-resolution', 'train', 'hires')\n",
    "img_base_path = os.path.join(base_path, 'dataset-image-super-resolution', 'valid', 'hires')\n",
    "target_img_path = os.path.join(processed_base_path)"
   ]
  },
  {
   "cell_type": "code",
   "execution_count": 9,
   "metadata": {},
   "outputs": [],
   "source": [
    "downscale = 2\n",
    "max_size = 512\n",
    "\n",
    "i = 100\n",
    "\n",
    "for f in os.listdir(img_base_path):        \n",
    "    img = cv2.imread(os.path.join(img_base_path, f))\n",
    "    img = ModImg(img, max_size, downscale)\n",
    "    \n",
    "    padded = img.getPadImg()\n",
    "    resized = pyramid_reduce(padded, downscale=downscale)\n",
    "    norm = cv2.normalize(padded.astype(np.float64), None, 0, 1, cv2.NORM_MINMAX)\n",
    "    \n",
    "#     np.save(os.path.join(target_img_path, 'x_train', (str)(i) + '.npy'), resized)\n",
    "#     np.save(os.path.join(target_img_path, 'y_train', (str)(i) + '.npy'), norm)\n",
    "    np.save(os.path.join(target_img_path, 'x_val', (str)(i) + '.npy'), resized)\n",
    "    np.save(os.path.join(target_img_path, 'y_val', (str)(i) + '.npy'), norm)\n",
    "#     np.save(os.path.join(target_img_path, 'x_test', (str)(i) + '.npy'), resized)\n",
    "#     np.save(os.path.join(target_img_path, 'y_test', (str)(i) + '.npy'), norm)\n",
    "\n",
    "    i += 1"
   ]
  },
  {
   "cell_type": "code",
   "execution_count": null,
   "metadata": {},
   "outputs": [],
   "source": [
    "img_sample = cv2.imread(os.path.join(img_base_path, '0001.png'))\n",
    "\n",
    "img = ModImg(img_sample, 512, 2)\n",
    "\n",
    "origin = img.getImg()\n",
    "crop_sample = img.getPadImg()\n",
    "resized = pyramid_reduce(crop_sample, downscale=downscale)\n",
    "# h_pad = int((1024 - resized_sample.shape[0]) / 2)\n",
    "# w_pad = int((1024 - resized_sample.shape[1]) / 2)\n",
    "\n",
    "# padded_sample = cv2.copyMakeBorder(resized_sample, top=h_pad, bottom=h_pad, left=w_pad, right=w_pad, borderType=cv2.BORDER_CONSTANT, value=(0,0,0))\n",
    "\n",
    "plt.figure(figsize=(12, 5))\n",
    "plt.subplot(1, 4, 1)\n",
    "plt.imshow(img_sample)\n",
    "plt.subplot(1, 4, 2)\n",
    "plt.imshow(crop_sample)\n",
    "plt.subplot(1, 4, 3)\n",
    "plt.imshow(resized_sample)\n",
    "plt.subplot(1, 4, 4)\n",
    "plt.imshow(origin)"
   ]
  }
 ],
 "metadata": {
  "kernelspec": {
   "display_name": "Python 3",
   "language": "python",
   "name": "python3"
  },
  "language_info": {
   "codemirror_mode": {
    "name": "ipython",
    "version": 3
   },
   "file_extension": ".py",
   "mimetype": "text/x-python",
   "name": "python",
   "nbconvert_exporter": "python",
   "pygments_lexer": "ipython3",
   "version": "3.7.3"
  }
 },
 "nbformat": 4,
 "nbformat_minor": 2
}
